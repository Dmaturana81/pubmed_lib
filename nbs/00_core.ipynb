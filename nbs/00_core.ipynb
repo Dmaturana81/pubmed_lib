{
 "cells": [
  {
   "cell_type": "markdown",
   "metadata": {},
   "source": [
    "# core\n",
    "\n",
    "> Functionalities to search, and retrieve data from pubmed"
   ]
  },
  {
   "cell_type": "code",
   "execution_count": null,
   "metadata": {},
   "outputs": [],
   "source": [
    "#| default_exp core"
   ]
  },
  {
   "cell_type": "code",
   "execution_count": null,
   "metadata": {},
   "outputs": [],
   "source": [
    "#| hide\n",
    "from nbdev.showdoc import *"
   ]
  },
  {
   "cell_type": "code",
   "execution_count": null,
   "metadata": {},
   "outputs": [],
   "source": [
    "#| hide\n",
    "%load_ext autoreload\n",
    "%autoreload 2"
   ]
  },
  {
   "cell_type": "code",
   "execution_count": null,
   "metadata": {},
   "outputs": [],
   "source": [
    "#| export\n",
    "from Bio import Entrez\n",
    "import sys\n",
    "import pandas as pd\n",
    "import xlsxwriter\n",
    "from datetime import datetime, timedelta, date\n",
    "from collections import defaultdict, Counter\n",
    "import  pickle\n",
    "from fastcore.all import *\n"
   ]
  },
  {
   "cell_type": "code",
   "execution_count": null,
   "metadata": {},
   "outputs": [
    {
     "name": "stderr",
     "output_type": "stream",
     "text": [
      "[autoreload of pubmed_lib.parser failed: Traceback (most recent call last):\n",
      "  File \"/Library/Frameworks/Python.framework/Versions/3.7/lib/python3.7/site-packages/IPython/extensions/autoreload.py\", line 245, in check\n",
      "    superreload(m, reload, self.old_objects)\n",
      "  File \"/Library/Frameworks/Python.framework/Versions/3.7/lib/python3.7/site-packages/IPython/extensions/autoreload.py\", line 394, in superreload\n",
      "    module = reload(module)\n",
      "  File \"/Library/Frameworks/Python.framework/Versions/3.7/lib/python3.7/imp.py\", line 314, in reload\n",
      "    return importlib.reload(module)\n",
      "  File \"/Library/Frameworks/Python.framework/Versions/3.7/lib/python3.7/importlib/__init__.py\", line 169, in reload\n",
      "    _bootstrap._exec(spec, module)\n",
      "  File \"<frozen importlib._bootstrap>\", line 630, in _exec\n",
      "  File \"<frozen importlib._bootstrap_external>\", line 728, in exec_module\n",
      "  File \"<frozen importlib._bootstrap>\", line 219, in _call_with_frames_removed\n",
      "  File \"/Volumes/Users/matu/Documents/Xcode/pubmed_lib/pubmed_lib/parser.py\", line 15, in <module>\n",
      "    from .core import *\n",
      "  File \"/Volumes/Users/matu/Documents/Xcode/pubmed_lib/pubmed_lib/core.py\", line 19, in <module>\n",
      "    from .parser import *\n",
      "AttributeError: module 'pubmed_lib.parser' has no attribute 'regex'\n",
      "]\n"
     ]
    }
   ],
   "source": [
    "#| export\n",
    "from pubmed_lib.data import *\n",
    "# from pubmed_lib.parser import *"
   ]
  },
  {
   "cell_type": "code",
   "execution_count": null,
   "metadata": {},
   "outputs": [],
   "source": [
    "#| export\n",
    "from dotenv import load_dotenv\n",
    "\n",
    "load_dotenv('pass.env')\n",
    "email = os.environ.get('EMAIL')\n",
    "api_key = os.environ.get('API_KEY')"
   ]
  },
  {
   "cell_type": "code",
   "execution_count": null,
   "metadata": {},
   "outputs": [],
   "source": [
    "#| export \n",
    "def searchpb(\n",
    "    search_term:str, #Query to be search in pubmed\n",
    "    search_tag:str = 'Author', #Tag to specifiy the search, can be any from pubmed, Defaul: Author\n",
    "    retmax:int = 5000, #Maximum number of results to be retrieved\n",
    "    retmode:str ='xml', #Format of the returned data, options are xml, \n",
    "    sort:str='relevance', #Way to sort the results\n",
    "    mindate:int = None, #Initial data to be search from, year\n",
    "    maxdate:int = None, #Final data to be search from, year\n",
    "    ):\n",
    "    \"\"\"\n",
    "    It receive a query to be searched in pubmed and return the handler of the search\n",
    "    \"\"\"\n",
    "    Entrez.email = email\n",
    "    Entrez.api_key = api_key\n",
    "    if search_tag not in SEARCH_TAGS.keys():\n",
    "        print(f\"Search tag need to be one of the following {SEARCH_TAGS.keys()}\")\n",
    "        raise AttributeError()\n",
    "    handle = Entrez.esearch(db='pubmed',\n",
    "                            sort=sort,\n",
    "                            retmax=retmax,\n",
    "                            retmode=retmode,\n",
    "                            term=search_term+SEARCH_TAGS[search_tag],\n",
    "                            mindate = mindate,\n",
    "                            maxdate = maxdate)\n",
    "    return Entrez.read(handle)"
   ]
  },
  {
   "cell_type": "code",
   "execution_count": null,
   "metadata": {},
   "outputs": [],
   "source": [
    "#| export\n",
    "def fetch_details(\n",
    "    IdList:list #List of pubmedIDs to fetch the details\n",
    "    ):\n",
    "    \"\"\"\n",
    "    It receive a list of pubmedIds from a search, and retrieve all the details of those publications\n",
    "    \"\"\"\n",
    "    ids = ','.join(IdList)\n",
    "    Entrez.email = email\n",
    "    Entrez.api_key = api_key\n",
    "    handle = Entrez.efetch(db='pubmed',\n",
    "                           retmode='xml',\n",
    "                           id=ids)\n",
    "    results = Entrez.read(handle)\n",
    "    return results"
   ]
  },
  {
   "cell_type": "code",
   "execution_count": null,
   "metadata": {},
   "outputs": [
    {
     "name": "stderr",
     "output_type": "stream",
     "text": [
      "[autoreload of pubmed_lib.parser failed: Traceback (most recent call last):\n",
      "  File \"/Library/Frameworks/Python.framework/Versions/3.7/lib/python3.7/site-packages/IPython/extensions/autoreload.py\", line 245, in check\n",
      "    superreload(m, reload, self.old_objects)\n",
      "  File \"/Library/Frameworks/Python.framework/Versions/3.7/lib/python3.7/site-packages/IPython/extensions/autoreload.py\", line 394, in superreload\n",
      "    module = reload(module)\n",
      "  File \"/Library/Frameworks/Python.framework/Versions/3.7/lib/python3.7/imp.py\", line 314, in reload\n",
      "    return importlib.reload(module)\n",
      "  File \"/Library/Frameworks/Python.framework/Versions/3.7/lib/python3.7/importlib/__init__.py\", line 169, in reload\n",
      "    _bootstrap._exec(spec, module)\n",
      "  File \"<frozen importlib._bootstrap>\", line 630, in _exec\n",
      "  File \"<frozen importlib._bootstrap_external>\", line 728, in exec_module\n",
      "  File \"<frozen importlib._bootstrap>\", line 219, in _call_with_frames_removed\n",
      "  File \"/Volumes/Users/matu/Documents/Xcode/pubmed_lib/pubmed_lib/parser.py\", line 15, in <module>\n",
      "    from .core import *\n",
      "  File \"/Volumes/Users/matu/Documents/Xcode/pubmed_lib/pubmed_lib/core.py\", line 19, in <module>\n",
      "    from .parser import *\n",
      "AttributeError: module 'pubmed_lib.parser' has no attribute 'regex'\n",
      "]\n"
     ]
    }
   ],
   "source": [
    "#| hide\n",
    "import nbdev; nbdev.nbdev_export()"
   ]
  },
  {
   "cell_type": "code",
   "execution_count": null,
   "metadata": {},
   "outputs": [],
   "source": []
  }
 ],
 "metadata": {
  "kernelspec": {
   "display_name": "Python 3",
   "language": "python",
   "name": "python3"
  }
 },
 "nbformat": 4,
 "nbformat_minor": 4
}
